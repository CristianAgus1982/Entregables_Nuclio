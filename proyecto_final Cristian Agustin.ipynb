{
 "cells": [
  {
   "cell_type": "markdown",
   "metadata": {},
   "source": [
    "# Assignment Final\n",
    "Los datos que se incluyen en el fichero `datos_ventas_centros_comerciales.csv` representan casi 100.000 compra-ventas realizadas en un grupo de Centros Comerciales durantes los años 2021 y 2022. \n",
    "\n",
    "Como analista del holding propietario de los centros comerciales realiza un analisis respondiendo a las siguiente preguntas."
   ]
  },
  {
   "cell_type": "code",
   "execution_count": null,
   "metadata": {},
   "outputs": [],
   "source": []
  },
  {
   "cell_type": "markdown",
   "metadata": {},
   "source": [
    "# 1. ¿Cuál es el total de ingresos generados por todas las ventas registradas?\n",
    "Guarda el resultado en una variable llamada `total_ingresos`\n",
    "\n",
    "\n"
   ]
  },
  {
   "cell_type": "code",
   "execution_count": 1,
   "metadata": {},
   "outputs": [
    {
     "name": "stdout",
     "output_type": "stream",
     "text": [
      "El total de ingresos generados por todas las ventas registradas es: 1490921515.7099998\n"
     ]
    }
   ],
   "source": [
    "import pandas as pd\n",
    "\n",
    "# Cargar los datos del archivo CSV\n",
    "df = pd.read_csv(r'C:\\Users\\paran\\OneDrive\\Escritorio\\Master Data Analytics\\Entregable 1 Python\\Ficheros-20250408\\datos_ventas_centros_comerciales.csv')\n",
    "\n",
    "# Calcular el total de ingresos, para ello creamos la columna Total resultante de multiplica cantidad por el precio\n",
    "df['total'] = df['quantity'] * df['price']\n",
    "total_ingresos = df['total'].sum()\n",
    "\n",
    "# Mostrar el total de ingresos\n",
    "print(f\"El total de ingresos generados por todas las ventas registradas es: {total_ingresos}\")\n"
   ]
  },
  {
   "cell_type": "code",
   "execution_count": null,
   "metadata": {},
   "outputs": [],
   "source": []
  },
  {
   "cell_type": "markdown",
   "metadata": {},
   "source": [
    "# 2. ¿Cuál es el centro comercial que ha generado más ventas?\n",
    "Guarda el resultado en una variable llamada `centro_comercial_mas_ventas`\n"
   ]
  },
  {
   "cell_type": "code",
   "execution_count": 2,
   "metadata": {},
   "outputs": [
    {
     "name": "stdout",
     "output_type": "stream",
     "text": [
      "El centro comercial que ha generado más ventas es: Mall of Istanbul con un total de 298743946.99 en ventas.\n"
     ]
    }
   ],
   "source": [
    "import pandas as pd\n",
    "\n",
    "# Cargar los datos del archivo CSV\n",
    "df = pd.read_csv(r'C:\\Users\\paran\\OneDrive\\Escritorio\\Master Data Analytics\\Entregable 1 Python\\Ficheros-20250408\\datos_ventas_centros_comerciales.csv')\n",
    "\n",
    "# Calcular el total de ingresos por centro comercial. \n",
    "df['total'] = df['quantity'] * df['price']\n",
    "ventas_por_centro = df.groupby('shopping_mall')['total'].sum()\n",
    "\n",
    "# Identificar el centro comercial que ha generado más ventas\n",
    "centro_comercial_max_ventas = ventas_por_centro.idxmax()\n",
    "max_ventas = ventas_por_centro.max()\n",
    "\n",
    "# Mostrar el resultado\n",
    "print(f\"El centro comercial que ha generado más ventas es: {centro_comercial_max_ventas} con un total de {max_ventas} en ventas.\")\n"
   ]
  },
  {
   "cell_type": "markdown",
   "metadata": {},
   "source": [
    "# 3. ¿Cuál es la categoría de producto que ha generado mas ventas? \n",
    "Guarda el resultado en una variable llamada `categoria_mas_vendida`\n"
   ]
  },
  {
   "cell_type": "code",
   "execution_count": 3,
   "metadata": {},
   "outputs": [
    {
     "name": "stdout",
     "output_type": "stream",
     "text": [
      "La categoría de producto que ha generado más ventas es: Clothing con un total de 514404102.03 en ventas.\n"
     ]
    }
   ],
   "source": [
    "import pandas as pd\n",
    "\n",
    "# Cargar los datos del archivo CSV\n",
    "df = pd.read_csv(r'C:\\Users\\paran\\OneDrive\\Escritorio\\Master Data Analytics\\Entregable 1 Python\\Ficheros-20250408\\datos_ventas_centros_comerciales.csv')\n",
    "\n",
    "# Calcular el total de ingresos por categoría de producto\n",
    "df['total'] = df['quantity'] * df['price']\n",
    "ventas_por_categoria = df.groupby('category')['total'].sum()\n",
    "\n",
    "# Identificar la categoría de producto que ha generado más ventas\n",
    "categoria_max_ventas = ventas_por_categoria.idxmax()\n",
    "max_ventas_categoria = ventas_por_categoria.max()\n",
    "\n",
    "# Mostrar el resultado\n",
    "print(f\"La categoría de producto que ha generado más ventas es: {categoria_max_ventas} con un total de {max_ventas_categoria} en ventas.\")\n"
   ]
  },
  {
   "cell_type": "markdown",
   "metadata": {},
   "source": [
    "# 4. ¿Cuál es el producto más caro vendido?\n",
    "Guarda el resultado en una variable llamada `categoria_producto_mas_caro`\n",
    "\n"
   ]
  },
  {
   "cell_type": "code",
   "execution_count": 4,
   "metadata": {},
   "outputs": [
    {
     "name": "stdout",
     "output_type": "stream",
     "text": [
      "El producto más caro vendido es: Toys con un precio de 9999.85.\n"
     ]
    }
   ],
   "source": [
    "import pandas as pd\n",
    "\n",
    "# Cargar los datos del archivo CSV\n",
    "df = pd.read_csv(r'C:\\Users\\paran\\OneDrive\\Escritorio\\Master Data Analytics\\Entregable 1 Python\\Ficheros-20250408\\datos_ventas_centros_comerciales.csv')\n",
    "\n",
    "# Identificar el producto más caro vendido\n",
    "producto_mas_caro = df.loc[df['price'].idxmax()]\n",
    "\n",
    "# Mostrar el resultado\n",
    "print(f\"El producto más caro vendido es: {producto_mas_caro['category']} con un precio de {producto_mas_caro['price']}.\")\n"
   ]
  },
  {
   "cell_type": "markdown",
   "metadata": {},
   "source": [
    "# 5. ¿Cuál es la factura más antigua registrada en el dataset?\n",
    "Guarda el resultado en una variable llamada `factura_mas_antigua`\n"
   ]
  },
  {
   "cell_type": "code",
   "execution_count": 5,
   "metadata": {},
   "outputs": [
    {
     "name": "stdout",
     "output_type": "stream",
     "text": [
      "La factura más antigua es:\n",
      "invoice_no                   I301161\n",
      "customer_id                  C844363\n",
      "category                   Cosmetics\n",
      "quantity                           3\n",
      "price                          50.19\n",
      "invoice_date     2021-01-01 00:00:00\n",
      "shopping_mall       Mall of Istanbul\n",
      "Name: 4296, dtype: object\n"
     ]
    }
   ],
   "source": [
    "import pandas as pd\n",
    "\n",
    "# Cargar los datos del archivo CSV\n",
    "df = pd.read_csv(r'C:\\Users\\paran\\OneDrive\\Escritorio\\Master Data Analytics\\Entregable 1 Python\\Ficheros-20250408\\datos_ventas_centros_comerciales.csv')\n",
    "\n",
    "# Convertir la columna de fecha a tipo datetime, especificando el formato correcto\n",
    "df['invoice_date'] = pd.to_datetime(df['invoice_date'], format='%d-%m-%Y', errors='coerce')\n",
    "\n",
    "# Identificar la factura más antigua\n",
    "factura_mas_antigua = df.loc[df['invoice_date'].idxmin()]\n",
    "\n",
    "# Mostrar el resultado\n",
    "print(f\"La factura más antigua es:\\n{factura_mas_antigua}\")\n"
   ]
  },
  {
   "cell_type": "markdown",
   "metadata": {},
   "source": [
    "# 6. ¿Cuál es la cantidad promedio de productos vendidos por transacción?\n",
    "Guarda el resultado en una variable llamada `cantidad_promedio_por_transaccion`\n",
    "\n"
   ]
  },
  {
   "cell_type": "code",
   "execution_count": 6,
   "metadata": {},
   "outputs": [
    {
     "name": "stdout",
     "output_type": "stream",
     "text": [
      "La cantidad promedio de productos vendidos por transacción es: 3.003428617392441\n"
     ]
    }
   ],
   "source": [
    "\n",
    "import pandas as pd\n",
    "\n",
    "# Cargar los datos del archivo CSV\n",
    "df = pd.read_csv(r'C:\\Users\\paran\\OneDrive\\Escritorio\\Master Data Analytics\\Entregable 1 Python\\Ficheros-20250408\\datos_ventas_centros_comerciales.csv')\n",
    "\n",
    "# Calcular la cantidad promedio de productos vendidos por transacción\n",
    "cantidad_promedio_por_transaccion = df['quantity'].mean()\n",
    "\n",
    "# Mostrar el resultado\n",
    "print(f\"La cantidad promedio de productos vendidos por transacción es: {cantidad_promedio_por_transaccion}\")\n"
   ]
  },
  {
   "cell_type": "markdown",
   "metadata": {},
   "source": [
    "# 7. ¿Cuál es el día con más ventas registradas?\n",
    "Guarda el resultado en una variable llamada `dia_con_mas_ventas`\n"
   ]
  },
  {
   "cell_type": "code",
   "execution_count": 7,
   "metadata": {},
   "outputs": [
    {
     "name": "stdout",
     "output_type": "stream",
     "text": [
      "El día con más ventas registradas es: 2022-01-07 con un total de 2575686.54 en ventas.\n"
     ]
    }
   ],
   "source": [
    "import pandas as pd\n",
    "\n",
    "# Cargar los datos del archivo CSV\n",
    "df = pd.read_csv(r'C:\\Users\\paran\\OneDrive\\Escritorio\\Master Data Analytics\\Entregable 1 Python\\Ficheros-20250408\\datos_ventas_centros_comerciales.csv')\n",
    "\n",
    "\n",
    "# Convertir la columna de fecha a tipo datetime, especificando el formato correcto\n",
    "df['invoice_date'] = pd.to_datetime(df['invoice_date'], format='%d-%m-%Y', errors='coerce')\n",
    "\n",
    "# Calcular el total de ingresos por día\n",
    "df['total'] = df['quantity'] * df['price']\n",
    "ventas_por_dia = df.groupby(df['invoice_date'].dt.date)['total'].sum()\n",
    "\n",
    "# Identificar el día con más ventas registradas\n",
    "dia_max_ventas = ventas_por_dia.idxmax()\n",
    "max_ventas_dia = ventas_por_dia.max()\n",
    "\n",
    "# Mostrar el resultado\n",
    "print(f\"El día con más ventas registradas es: {dia_max_ventas} con un total de {max_ventas_dia} en ventas.\")\n",
    "\n",
    "\n"
   ]
  },
  {
   "cell_type": "markdown",
   "metadata": {},
   "source": [
    "# 8. ¿Cuál es el cliente que más ha gastado en total?\n",
    "Guarda el resultado en una variable llamada `cliente_que_mas_gasto`\n"
   ]
  },
  {
   "cell_type": "code",
   "execution_count": 8,
   "metadata": {},
   "outputs": [
    {
     "name": "stdout",
     "output_type": "stream",
     "text": [
      "El cliente que más gastó es: C307063 con un total de 49998.0 en gastos.\n"
     ]
    }
   ],
   "source": [
    "import pandas as pd\n",
    "\n",
    "# Cargar los datos del archivo CSV\n",
    "df = pd.read_csv(r'C:\\Users\\paran\\OneDrive\\Escritorio\\Master Data Analytics\\Entregable 1 Python\\Ficheros-20250408\\datos_ventas_centros_comerciales.csv')\n",
    "\n",
    "# Calcular el total gastado por cada cliente\n",
    "df['total'] = df['quantity'] * df['price']\n",
    "gasto_por_cliente = df.groupby('customer_id')['total'].sum()\n",
    "\n",
    "# Identificar el cliente que más gastó\n",
    "cliente_max_gasto = gasto_por_cliente.idxmax()\n",
    "max_gasto_cliente = gasto_por_cliente.max()\n",
    "\n",
    "# Mostrar el resultado\n",
    "print(f\"El cliente que más gastó es: {cliente_max_gasto} con un total de {max_gasto_cliente} en gastos.\")\n"
   ]
  },
  {
   "cell_type": "markdown",
   "metadata": {},
   "source": [
    "# 9. ¿Cuál es la factura con el precio total más alto?\n",
    "Guarda el resultado en una variable llamada `factura_max_valor`\n"
   ]
  },
  {
   "cell_type": "code",
   "execution_count": 9,
   "metadata": {},
   "outputs": [
    {
     "name": "stdout",
     "output_type": "stream",
     "text": [
      "La factura con el gasto más alto es:\n",
      "invoice_no          I311640\n",
      "customer_id         C307063\n",
      "category           Clothing\n",
      "quantity                  5\n",
      "price                9999.6\n",
      "invoice_date     13-01-2023\n",
      "shopping_mall     Metrocity\n",
      "total               49998.0\n",
      "Name: 17110, dtype: object\n"
     ]
    }
   ],
   "source": [
    "import pandas as pd\n",
    "\n",
    "# Cargar los datos del archivo CSV\n",
    "df = pd.read_csv(r'C:\\Users\\paran\\OneDrive\\Escritorio\\Master Data Analytics\\Entregable 1 Python\\Ficheros-20250408\\datos_ventas_centros_comerciales.csv')\n",
    "\n",
    "# Calcular el total de cada factura\n",
    "df['total'] = df['quantity'] * df['price']\n",
    "\n",
    "# Identificar la factura con el gasto más alto\n",
    "factura_max_gasto = df.loc[df['total'].idxmax()]\n",
    "\n",
    "# Mostrar el resultado\n",
    "print(f\"La factura con el gasto más alto es:\\n{factura_max_gasto}\")\n"
   ]
  },
  {
   "cell_type": "markdown",
   "metadata": {},
   "source": [
    "# 10. ¿Cuál es la distribución porcentual de ventas por categoría de producto?\n",
    "Guarda el resultado en una variable llamada `distribucion_porcentual_ventas_por_categoria`. El tipo de `distribucion_porcentual_ventas_por_categoria` debe ser `pandas.core.series.Series` donde las etiquetas deben ser las categorias y los valores deben ser la distribucion porcentual de las ventas por categoría\n"
   ]
  },
  {
   "cell_type": "code",
   "execution_count": 10,
   "metadata": {},
   "outputs": [
    {
     "name": "stdout",
     "output_type": "stream",
     "text": [
      "category\n",
      "Books               4.991948\n",
      "Clothing           34.502427\n",
      "Cosmetics          15.222939\n",
      "Food & Beverage    14.915931\n",
      "Shoes              10.170227\n",
      "Souvenir            4.974746\n",
      "Technology          5.061530\n",
      "Toys               10.160253\n",
      "Name: Total, dtype: float64\n"
     ]
    }
   ],
   "source": [
    "import pandas as pd\n",
    "\n",
    "# Cargar los datos del archivo CSV\n",
    "df = pd.read_csv(r'C:\\Users\\paran\\OneDrive\\Escritorio\\Master Data Analytics\\Entregable 1 Python\\Ficheros-20250408\\datos_ventas_centros_comerciales.csv')\n",
    "\n",
    "# Calcular el total de ingresos por categoría de producto\n",
    "df['Total'] = df['quantity'] * df['price']\n",
    "ventas_por_categoria = df.groupby('category')['Total'].sum()\n",
    "\n",
    "# Calcular la distribución porcentual de ventas por categoría\n",
    "distribucion_porcentual_ventas_por_categoria = (ventas_por_categoria / ventas_por_categoria.sum()) * 100\n",
    "\n",
    "# Mostrar el resultado\n",
    "print(distribucion_porcentual_ventas_por_categoria)\n"
   ]
  },
  {
   "cell_type": "markdown",
   "metadata": {},
   "source": [
    "# 11. ¿Cuál es el día de la semana con más ventas registradas en cada centro comercial?\n",
    "Guarda el resultado en una variable llamada `dia_semana_mas_ventas_por_centro`. El tipo de `dia_semana_mas_ventas_por_centro` debe ser `pandas.core.series.Series` donde las etiquetas deben ser el nombre de los centros comerciales y los valores deben ser el nombre del dia de la semana con mas ventas."
   ]
  },
  {
   "cell_type": "code",
   "execution_count": 11,
   "metadata": {},
   "outputs": [
    {
     "name": "stdout",
     "output_type": "stream",
     "text": [
      "shopping_mall\n",
      "Cevahir AVM            Sunday\n",
      "Emaar Square Mall      Friday\n",
      "Forum Istanbul         Monday\n",
      "Istinye Park           Friday\n",
      "Kanyon                 Monday\n",
      "Mall of Istanbul      Tuesday\n",
      "Metrocity             Tuesday\n",
      "Metropol AVM          Tuesday\n",
      "Viaport Outlet         Friday\n",
      "Zorlu Center         Thursday\n",
      "Name: total, dtype: object\n"
     ]
    }
   ],
   "source": [
    "import pandas as pd\n",
    "\n",
    "# Cargar los datos del archivo CSV\n",
    "df = pd.read_csv(r'C:\\Users\\paran\\OneDrive\\Escritorio\\Master Data Analytics\\Entregable 1 Python\\Ficheros-20250408\\datos_ventas_centros_comerciales.csv')\n",
    "\n",
    "\n",
    "# Convertir la columna de fecha a tipo datetime, especificando el formato correcto\n",
    "df['invoice_date'] = pd.to_datetime(df['invoice_date'], format='%d-%m-%Y')\n",
    "\n",
    "# Agregar una columna con el día de la semana\n",
    "df['dia_Semana'] = df['invoice_date'].dt.day_name()\n",
    "\n",
    "# Calcular el total de ingresos por día de la semana y centro comercial\n",
    "df['total'] = df['quantity'] * df['price']\n",
    "ventas_por_dia_semana_centro = df.groupby(['shopping_mall', 'dia_Semana'])['total'].sum()\n",
    "\n",
    "# Identificar el día de la semana con más ventas registradas en cada centro comercial\n",
    "dia_semana_mas_ventas_por_centro = ventas_por_dia_semana_centro.groupby(level=0).idxmax().apply(lambda x: x[1])\n",
    "\n",
    "# Mostrar el resultado\n",
    "print(dia_semana_mas_ventas_por_centro)\n",
    "\n"
   ]
  }
 ],
 "metadata": {
  "kernelspec": {
   "display_name": "Test",
   "language": "python",
   "name": "python3"
  },
  "language_info": {
   "codemirror_mode": {
    "name": "ipython",
    "version": 3
   },
   "file_extension": ".py",
   "mimetype": "text/x-python",
   "name": "python",
   "nbconvert_exporter": "python",
   "pygments_lexer": "ipython3",
   "version": "3.12.9"
  }
 },
 "nbformat": 4,
 "nbformat_minor": 2
}
